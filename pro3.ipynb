{
 "cells": [
  {
   "cell_type": "code",
   "execution_count": null,
   "id": "a264c52a",
   "metadata": {},
   "outputs": [],
   "source": [
    "import streamlit as st\n",
    "import torch\n",
    "from transformers import pipeline, AutoModelForSequenceClassification, AutoTokenizer, Wav2Vec2Processor, Wav2Vec2ForCTC\n",
    "import soundfile as sf\n",
    "from diffusers import StableDiffusionPipeline\n",
    "import tempfile\n",
    "import os\n",
    "\n",
    "device = 0 if torch.cuda.is_available() else -1\n",
    "emotion_model_name = \"j-hartmann/emotion-english-distilroberta-base\"\n",
    "emotion_classifier = pipeline(\"text-classification\", model=emotion_model_name, return_all_scores=False, device=device)\n",
    "\n",
    "asr_processor = Wav2Vec2Processor.from_pretrained(\"facebook/wav2vec2-base-960h\")\n",
    "asr_model = Wav2Vec2ForCTC.from_pretrained(\"facebook/wav2vec2-base-960h\")\n",
    "\n",
    "sd_pipe = StableDiffusionPipeline.from_pretrained(\"runwayml/stable-diffusion-v1-5\")\n",
    "sd_pipe.to(\"cuda\" if torch.cuda.is_available() else \"cpu\")\n",
    "\n",
    "st.title(\"Emotion Painter (AI)\")\n",
    "\n",
    "input_type = st.radio(\"Select input type\", [\"Text\", \"Audio\"])\n",
    "user_text = \"\"\n",
    "if input_type == \"Text\":\n",
    "    user_text = st.text_area(\"Enter your sentence expressing your feeling:\")\n",
    "else:\n",
    "    audio_file = st.file_uploader(\"Upload audio file (wav)\", type=[\"wav\"])\n",
    "    if audio_file:\n",
    "        with tempfile.NamedTemporaryFile(delete=False, suffix=\".wav\") as tmp:\n",
    "            tmp.write(audio_file.read())\n",
    "            tmp_path = tmp.name\n",
    "        speech, rate = sf.read(tmp_path)\n",
    "        input_values = asr_processor(speech, sampling_rate=rate, return_tensors=\"pt\").input_values\n",
    "        logits = asr_model(input_values).logits\n",
    "        predicted_ids = torch.argmax(logits, dim=-1)\n",
    "        user_text = asr_processor.batch_decode(predicted_ids)[0]\n",
    "\n",
    "if st.button(\"Generate Image\") and user_text.strip():\n",
    "    emotion_result = emotion_classifier(user_text)[0]\n",
    "    emotion = emotion_result['label']\n",
    "    prompt = f\"An artistic representation of {emotion} emotion\"\n",
    "    image = sd_pipe(prompt).images[0]\n",
    "    st.image(image, caption=f\"Emotion: {emotion}\")\n",
    "    with tempfile.NamedTemporaryFile(delete=False, suffix=\".png\") as img_tmp:\n",
    "        image.save(img_tmp.name)\n",
    "        st.download_button(\"Download Image\", open(img_tmp.name, \"rb\"), file_name=\"emotion_art.png\")"
   ]
  }
 ],
 "metadata": {
  "kernelspec": {
   "display_name": "Python 3",
   "language": "python",
   "name": "python3"
  },
  "language_info": {
   "name": "python",
   "version": "3.10.11"
  }
 },
 "nbformat": 4,
 "nbformat_minor": 5
}
